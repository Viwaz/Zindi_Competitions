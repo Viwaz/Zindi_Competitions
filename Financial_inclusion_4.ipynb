{
  "cells": [
    {
      "cell_type": "markdown",
      "metadata": {
        "id": "view-in-github",
        "colab_type": "text"
      },
      "source": [
        "<a href=\"https://colab.research.google.com/github/Viwaz/Zindi_Competitions/blob/main/Financial_inclusion_4.ipynb\" target=\"_parent\"><img src=\"https://colab.research.google.com/assets/colab-badge.svg\" alt=\"Open In Colab\"/></a>"
      ]
    },
    {
      "cell_type": "markdown",
      "source": [
        "\n",
        "This Notebook got an MAE score of `0.112532222` which is higher than the previous one. I am yet to find out how to improve my model\n",
        "\n",
        "\n"
      ],
      "metadata": {
        "id": "j6Kio0yzxTSl"
      },
      "id": "j6Kio0yzxTSl"
    },
    {
      "cell_type": "markdown",
      "id": "914d6863",
      "metadata": {
        "id": "914d6863"
      },
      "source": [
        "# 📌 Financial Inclusion in Africa: Starter Notebook\n",
        "\n",
        "This beginner-friendly guide walks you through a simple machine learning pipeline for predicting financial inclusion.\n",
        "\n",
        "\n",
        "This is a simple starter notebook to get started with the Financial Inclusion Competition on Zindi.\n",
        "\n",
        "This notebook covers:\n",
        "- Loading the data\n",
        "- Simple EDA and an example of feature enginnering\n",
        "- Data preprocessing and data wrangling\n",
        "- Creating a simple model\n",
        "- Making a submission\n",
        "- Some tips for improving your score"
      ]
    },
    {
      "cell_type": "code",
      "execution_count": 1,
      "id": "a37be537",
      "metadata": {
        "colab": {
          "base_uri": "https://localhost:8080/"
        },
        "id": "a37be537",
        "outputId": "ee810e88-01e0-47b0-cc94-56a052be8b2e"
      },
      "outputs": [
        {
          "output_type": "stream",
          "name": "stdout",
          "text": [
            "Libraries imported successfully!\n"
          ]
        }
      ],
      "source": [
        "# 📌 Import necessary libraries for data handling, visualization, and modeling\n",
        "import pandas as pd\n",
        "import numpy as np\n",
        "import seaborn as sns\n",
        "import matplotlib.pyplot as plt\n",
        "\n",
        "# Machine Learning\n",
        "from lightgbm import LGBMClassifier\n",
        "from sklearn.model_selection import train_test_split\n",
        "from sklearn.metrics import accuracy_score\n",
        "from sklearn.metrics import mean_absolute_error\n",
        "from xgboost import XGBClassifier\n",
        "\n",
        "import warnings\n",
        "warnings.filterwarnings('ignore')\n",
        "\n",
        "print(\"Libraries imported successfully!\")"
      ]
    },
    {
      "cell_type": "markdown",
      "id": "2b3e6c3c",
      "metadata": {
        "id": "2b3e6c3c"
      },
      "source": [
        "## Loading The Data and exploring it"
      ]
    },
    {
      "cell_type": "code",
      "execution_count": 3,
      "id": "9366b393",
      "metadata": {
        "colab": {
          "base_uri": "https://localhost:8080/"
        },
        "id": "9366b393",
        "outputId": "01fc28b9-650f-4654-cc63-cae184966929"
      },
      "outputs": [
        {
          "output_type": "stream",
          "name": "stdout",
          "text": [
            "✅ Train dataset: 23524 rows, 13 columns\n",
            "✅ Test dataset: 10086 rows, 12 columns\n"
          ]
        }
      ],
      "source": [
        "# 📥 Load datasets\n",
        "train = pd.read_csv('Train.csv')  # Training dataset\n",
        "test = pd.read_csv('Test.csv')  # Test dataset (no labels)\n",
        "ss = pd.read_csv('SampleSubmission.csv')  # Sample submission format\n",
        "variables = pd.read_csv('VariableDefinitions.csv')  # Data dictionary\n",
        "\n",
        "# 📊 Check dataset shapes\n",
        "print(f\"✅ Train dataset: {train.shape[0]} rows, {train.shape[1]} columns\")\n",
        "print(f\"✅ Test dataset: {test.shape[0]} rows, {test.shape[1]} columns\")"
      ]
    },
    {
      "cell_type": "markdown",
      "id": "fa0a1d56",
      "metadata": {
        "id": "fa0a1d56"
      },
      "source": [
        "From the above code we see that there are 13 features in the train DS and 12 in the test DS (test has the target variable excluded)"
      ]
    },
    {
      "cell_type": "code",
      "execution_count": 4,
      "id": "38f77b4a",
      "metadata": {
        "colab": {
          "base_uri": "https://localhost:8080/"
        },
        "id": "38f77b4a",
        "outputId": "3b857dce-95d4-490e-8409-e9928676f621"
      },
      "outputs": [
        {
          "output_type": "stream",
          "name": "stdout",
          "text": [
            "train missing values: \n",
            " country                   0\n",
            "year                      0\n",
            "uniqueid                  0\n",
            "bank_account              0\n",
            "location_type             0\n",
            "cellphone_access          0\n",
            "household_size            0\n",
            "age_of_respondent         0\n",
            "gender_of_respondent      0\n",
            "relationship_with_head    0\n",
            "marital_status            0\n",
            "education_level           0\n",
            "job_type                  0\n",
            "dtype: int64\n",
            "\n",
            "test missing values: \n",
            " country                   0\n",
            "year                      0\n",
            "uniqueid                  0\n",
            "location_type             0\n",
            "cellphone_access          0\n",
            "household_size            0\n",
            "age_of_respondent         0\n",
            "gender_of_respondent      0\n",
            "relationship_with_head    0\n",
            "marital_status            0\n",
            "education_level           0\n",
            "job_type                  0\n",
            "dtype: int64\n"
          ]
        }
      ],
      "source": [
        "# Check for missing values in training data\n",
        "print('train missing values:',\"\\n\", train.isnull().sum())\n",
        "print()\n",
        "print('test missing values:',\"\\n\", test.isnull().sum())"
      ]
    },
    {
      "cell_type": "markdown",
      "id": "88f942f5",
      "metadata": {
        "id": "88f942f5"
      },
      "source": [
        "The both Data sets have no missing values"
      ]
    },
    {
      "cell_type": "code",
      "execution_count": 5,
      "id": "673fa238",
      "metadata": {
        "colab": {
          "base_uri": "https://localhost:8080/",
          "height": 523
        },
        "id": "673fa238",
        "outputId": "71e1915e-8c04-4e19-acf3-a32e0a53e30e"
      },
      "outputs": [
        {
          "output_type": "execute_result",
          "data": {
            "text/plain": [
              "<seaborn.axisgrid.FacetGrid at 0x7b623178fe50>"
            ]
          },
          "metadata": {},
          "execution_count": 5
        },
        {
          "output_type": "display_data",
          "data": {
            "text/plain": [
              "<Figure size 511.111x500 with 1 Axes>"
            ],
            "image/png": "[encoded data removed]"
          },
          "metadata": {}
        }
      ],
      "source": [
        "# Explore Target distribution\n",
        "sns.catplot(x=\"bank_account\", kind=\"count\", data=train)"
      ]
    },
    {
      "cell_type": "markdown",
      "id": "5e2d846e",
      "metadata": {
        "id": "5e2d846e"
      },
      "source": [
        "Distribution shows that there are more people without bank accounts"
      ]
    },
    {
      "cell_type": "markdown",
      "id": "0a10a463",
      "metadata": {
        "id": "0a10a463"
      },
      "source": [
        "## Understanding the Data"
      ]
    },
    {
      "cell_type": "code",
      "execution_count": null,
      "id": "afff7502",
      "metadata": {
        "colab": {
          "base_uri": "https://localhost:8080/"
        },
        "id": "afff7502",
        "outputId": "8c6e691a-a868-427e-bb59-b2da181ef08e"
      },
      "outputs": [
        {
          "output_type": "stream",
          "name": "stdout",
          "text": [
            "<class 'pandas.core.frame.DataFrame'>\n",
            "RangeIndex: 23524 entries, 0 to 23523\n",
            "Data columns (total 13 columns):\n",
            " #   Column                  Non-Null Count  Dtype \n",
            "---  ------                  --------------  ----- \n",
            " 0   country                 23524 non-null  object\n",
            " 1   year                    23524 non-null  int64 \n",
            " 2   uniqueid                23524 non-null  object\n",
            " 3   bank_account            23524 non-null  object\n",
            " 4   location_type           23524 non-null  object\n",
            " 5   cellphone_access        23524 non-null  object\n",
            " 6   household_size          23524 non-null  int64 \n",
            " 7   age_of_respondent       23524 non-null  int64 \n",
            " 8   gender_of_respondent    23524 non-null  object\n",
            " 9   relationship_with_head  23524 non-null  object\n",
            " 10  marital_status          23524 non-null  object\n",
            " 11  education_level         23524 non-null  object\n",
            " 12  job_type                23524 non-null  object\n",
            "dtypes: int64(3), object(10)\n",
            "memory usage: 2.3+ MB\n"
          ]
        }
      ],
      "source": [
        "#show some information about the dataset\n",
        "train.info()"
      ]
    },
    {
      "cell_type": "markdown",
      "id": "78b81182",
      "metadata": {
        "id": "78b81182"
      },
      "source": [
        "There are 3 `numerical` features and the rest are `object` type\n",
        "- `bank_account` and `cellphone_access` are ordinal hence can be handled accordingly\n",
        "- Because `bank_account` is a target variable we can modify it seperately"
      ]
    },
    {
      "cell_type": "code",
      "execution_count": 6,
      "id": "272d61ba",
      "metadata": {
        "id": "272d61ba"
      },
      "outputs": [],
      "source": [
        "from sklearn.pipeline import Pipeline\n",
        "from sklearn.compose import ColumnTransformer\n",
        "from sklearn.preprocessing import OneHotEncoder\n",
        "from sklearn.preprocessing import LabelEncoder\n",
        "from sklearn.preprocessing import MinMaxScaler"
      ]
    },
    {
      "cell_type": "code",
      "execution_count": 7,
      "id": "b56d1282",
      "metadata": {
        "id": "b56d1282"
      },
      "outputs": [],
      "source": [
        "# features that need to be encode ordinally\n",
        "ordinal_encoded_cols = ['cellphone_access', 'bank_account']\n",
        "def ordinal_encoder(df):\n",
        "    \"\"\"\n",
        "    Ordnally encodes the given columns, and returns the trasnformed Df\n",
        "    :param df: DataFrame to be encoded\n",
        "    :return: DataFrame with encoded columns\n",
        "    \"\"\"\n",
        "    for col in df.columns:\n",
        "        if col in ordinal_encoded_cols:\n",
        "            df[col] = df[col].map({'No':0,'Yes':1})\n",
        "    return df\n",
        "\n",
        "# ordinal encoding\n",
        "train = ordinal_encoder(train)\n",
        "test = ordinal_encoder(test)\n"
      ]
    },
    {
      "cell_type": "code",
      "execution_count": 8,
      "id": "efd71722",
      "metadata": {
        "id": "efd71722"
      },
      "outputs": [],
      "source": [
        "# getting numerical columns\n",
        "numerical_columns = train.select_dtypes(include=['int64', 'float64']).columns\n",
        "# getting categorical columns\n",
        "X = train.drop(columns = ['bank_account', 'uniqueid'], axis = 1)\n",
        "y = train.bank_account\n",
        "test_mod = test.drop(columns = ['uniqueid'])\n",
        "\n",
        "categorical_columns = [col for col in X.select_dtypes(include=['object']).columns if col not in ordinal_encoded_cols]\n",
        "# Splitting the data into features and Target"
      ]
    },
    {
      "cell_type": "code",
      "execution_count": 9,
      "id": "aad15105",
      "metadata": {
        "id": "aad15105"
      },
      "outputs": [],
      "source": [
        "# creating transformers\n",
        "category_transformer = Pipeline(steps = [\n",
        "    ('encoder', OneHotEncoder(handle_unknown='ignore', sparse_output= False))\n",
        "])\n",
        "# bundling tranformers to create an overal preprocessor\n",
        "preprocessor = ColumnTransformer(\n",
        "    transformers=[\n",
        "        ('cat',category_transformer,categorical_columns)\n",
        "\n",
        "    ]\n",
        ")\n",
        "\n",
        "#Splitiing the Data\n",
        "X_train, X_valid, y_train, y_valid = train_test_split(X,y, test_size = 0.2, random_state = 42,stratify = y)"
      ]
    },
    {
      "cell_type": "code",
      "execution_count": 10,
      "id": "950a1f90",
      "metadata": {
        "id": "950a1f90"
      },
      "outputs": [],
      "source": [
        "# creating the piplines\n",
        "Lgbm_pipe = Pipeline(steps=[\n",
        "    ('preprocessor', preprocessor),\n",
        "    ('classifier', LGBMClassifier(random_state=42, learning_rate=0.05))\n",
        "])\n",
        "\n",
        "Xg_pipe = Pipeline(steps = [\n",
        "    ('preprocessor', preprocessor),\n",
        "    ('classifier', XGBClassifier(random_state = 42,tree_method=\"hist\", enable_categorical=True, device=\"cuda\"))\n",
        "])"
      ]
    },
    {
      "cell_type": "code",
      "execution_count": 13,
      "id": "6b96ffe6",
      "metadata": {
        "colab": {
          "base_uri": "https://localhost:8080/"
        },
        "id": "6b96ffe6",
        "outputId": "e37f190b-944e-47ad-aa60-0be7a15526ed"
      },
      "outputs": [
        {
          "output_type": "stream",
          "name": "stdout",
          "text": [
            "[LightGBM] [Info] Number of positive: 2650, number of negative: 16169\n",
            "[LightGBM] [Info] Auto-choosing row-wise multi-threading, the overhead of testing was 0.001042 seconds.\n",
            "You can set `force_row_wise=true` to remove the overhead.\n",
            "And if memory is not enough, you can set `force_col_wise=true`.\n",
            "[LightGBM] [Info] Total Bins 68\n",
            "[LightGBM] [Info] Number of data points in the train set: 18819, number of used features: 34\n",
            "[LightGBM] [Info] [binary:BoostFromScore]: pavg=0.140815 -> initscore=-1.808536\n",
            "[LightGBM] [Info] Start training from score -1.808536\n",
            "LGBMClassifier error score: 0.8888416578108396\n",
            "LGBMClassifier mae score: 0.11115834218916047\n",
            "\n",
            "XGBClassifier error score: 0.8867162592986185\n",
            "XGBClassifier mae score: 0.1132837407013815\n",
            "\n"
          ]
        }
      ],
      "source": [
        "# Fitting the models and evaluating their perfomrmance\n",
        "pipes = [Lgbm_pipe,Xg_pipe]\n",
        "def evaluate_model(pipes):\n",
        "    scores = {}\n",
        "    for pipe in pipes:\n",
        "        pipe.fit(X_train,y_train)\n",
        "        pipe_name = pipe.named_steps['classifier'].__class__.__name__\n",
        "        y_pred = pipe.predict(X_valid)\n",
        "\n",
        "        err_score =accuracy_score(y_valid, y_pred)\n",
        "        mae_score = mean_absolute_error(y_valid, y_pred)\n",
        "\n",
        "        print(f\"{pipe_name} error score: {err_score}\")\n",
        "        print(f\"{pipe_name} mae score: {mae_score}\")\n",
        "        print()\n",
        "        scores[err_score] = pipe\n",
        "    return scores\n",
        "\n",
        "scores = evaluate_model(pipes)\n",
        "\n",
        "\n"
      ]
    },
    {
      "cell_type": "markdown",
      "source": [
        "LGBM Classifier performed better than the XGBoost as such well use the former to train the whole data set"
      ],
      "metadata": {
        "id": "ZBLLpa4jtUtt"
      },
      "id": "ZBLLpa4jtUtt"
    },
    {
      "cell_type": "code",
      "source": [
        "Lgbm_pipe.fit(X,y)\n",
        "test.bank_account = Lgbm_pipe.predict(test_mod)\n"
      ],
      "metadata": {
        "colab": {
          "base_uri": "https://localhost:8080/"
        },
        "id": "zrgTCDX3tjZ_",
        "outputId": "7eb73bc4-c418-41b8-d707-6b9a1ee13fd6"
      },
      "id": "zrgTCDX3tjZ_",
      "execution_count": null,
      "outputs": [
        {
          "output_type": "stream",
          "name": "stdout",
          "text": [
            "[LightGBM] [Info] Number of positive: 3312, number of negative: 20212\n",
            "[LightGBM] [Info] Auto-choosing row-wise multi-threading, the overhead of testing was 0.001206 seconds.\n",
            "You can set `force_row_wise=true` to remove the overhead.\n",
            "And if memory is not enough, you can set `force_col_wise=true`.\n",
            "[LightGBM] [Info] Total Bins 68\n",
            "[LightGBM] [Info] Number of data points in the train set: 23524, number of used features: 34\n",
            "[LightGBM] [Info] [binary:BoostFromScore]: pavg=0.140792 -> initscore=-1.808724\n",
            "[LightGBM] [Info] Start training from score -1.808724\n"
          ]
        }
      ]
    },
    {
      "cell_type": "markdown",
      "source": [
        "#### Creating a doc for Submission"
      ],
      "metadata": {
        "id": "9nhBCo1pvE_X"
      },
      "id": "9nhBCo1pvE_X"
    },
    {
      "cell_type": "code",
      "source": [
        "# Create submission DataFrame\n",
        "submission = pd.DataFrame({\"uniqueid\": test[\"uniqueid\"] + \" x \" + test[\"country\"],\n",
        "                           \"bank_account\": test.bank_account})\n",
        "submission.head()"
      ],
      "metadata": {
        "colab": {
          "base_uri": "https://localhost:8080/",
          "height": 206
        },
        "id": "3Va2ItO9uUPs",
        "outputId": "1819c2ec-c967-4556-901b-716a95986e0d"
      },
      "id": "3Va2ItO9uUPs",
      "execution_count": null,
      "outputs": [
        {
          "output_type": "execute_result",
          "data": {
            "text/plain": [
              "                uniqueid  bank_account\n",
              "0  uniqueid_6056 x Kenya             1\n",
              "1  uniqueid_6060 x Kenya             1\n",
              "2  uniqueid_6065 x Kenya             0\n",
              "3  uniqueid_6072 x Kenya             0\n",
              "4  uniqueid_6073 x Kenya             0"
            ],
            "text/html": [
              "\n",
              "  <div id=\"df-04a546e4-b899-4d5a-acfa-bb699a644003\" class=\"colab-df-container\">\n",
              "    <div>\n",
              "<style scoped>\n",
              "    .dataframe tbody tr th:only-of-type {\n",
              "        vertical-align: middle;\n",
              "    }\n",
              "\n",
              "    .dataframe tbody tr th {\n",
              "        vertical-align: top;\n",
              "    }\n",
              "\n",
              "    .dataframe thead th {\n",
              "        text-align: right;\n",
              "    }\n",
              "</style>\n",
              "<table border=\"1\" class=\"dataframe\">\n",
              "  <thead>\n",
              "    <tr style=\"text-align: right;\">\n",
              "      <th></th>\n",
              "      <th>uniqueid</th>\n",
              "      <th>bank_account</th>\n",
              "    </tr>\n",
              "  </thead>\n",
              "  <tbody>\n",
              "    <tr>\n",
              "      <th>0</th>\n",
              "      <td>uniqueid_6056 x Kenya</td>\n",
              "      <td>1</td>\n",
              "    </tr>\n",
              "    <tr>\n",
              "      <th>1</th>\n",
              "      <td>uniqueid_6060 x Kenya</td>\n",
              "      <td>1</td>\n",
              "    </tr>\n",
              "    <tr>\n",
              "      <th>2</th>\n",
              "      <td>uniqueid_6065 x Kenya</td>\n",
              "      <td>0</td>\n",
              "    </tr>\n",
              "    <tr>\n",
              "      <th>3</th>\n",
              "      <td>uniqueid_6072 x Kenya</td>\n",
              "      <td>0</td>\n",
              "    </tr>\n",
              "    <tr>\n",
              "      <th>4</th>\n",
              "      <td>uniqueid_6073 x Kenya</td>\n",
              "      <td>0</td>\n",
              "    </tr>\n",
              "  </tbody>\n",
              "</table>\n",
              "</div>\n",
              "    <div class=\"colab-df-buttons\">\n",
              "\n",
              "  <div class=\"colab-df-container\">\n",
              "    <button class=\"colab-df-convert\" onclick=\"convertToInteractive('df-04a546e4-b899-4d5a-acfa-bb699a644003')\"\n",
              "            title=\"Convert this dataframe to an interactive table.\"\n",
              "            style=\"display:none;\">\n",
              "\n",
              "  <svg xmlns=\"http://www.w3.org/2000/svg\" height=\"24px\" viewBox=\"0 -960 960 960\">\n",
              "    <path d=\"M120-120v-720h720v720H120Zm60-500h600v-160H180v160Zm220 220h160v-160H400v160Zm0 220h160v-160H400v160ZM180-400h160v-160H180v160Zm440 0h160v-160H620v160ZM180-180h160v-160H180v160Zm440 0h160v-160H620v160Z\"/>\n",
              "  </svg>\n",
              "    </button>\n",
              "\n",
              "  <style>\n",
              "    .colab-df-container {\n",
              "      display:flex;\n",
              "      gap: 12px;\n",
              "    }\n",
              "\n",
              "    .colab-df-convert {\n",
              "      background-color: #E8F0FE;\n",
              "      border: none;\n",
              "      border-radius: 50%;\n",
              "      cursor: pointer;\n",
              "      display: none;\n",
              "      fill: #1967D2;\n",
              "      height: 32px;\n",
              "      padding: 0 0 0 0;\n",
              "      width: 32px;\n",
              "    }\n",
              "\n",
              "    .colab-df-convert:hover {\n",
              "      background-color: #E2EBFA;\n",
              "      box-shadow: 0px 1px 2px rgba(60, 64, 67, 0.3), 0px 1px 3px 1px rgba(60, 64, 67, 0.15);\n",
              "      fill: #174EA6;\n",
              "    }\n",
              "\n",
              "    .colab-df-buttons div {\n",
              "      margin-bottom: 4px;\n",
              "    }\n",
              "\n",
              "    [theme=dark] .colab-df-convert {\n",
              "      background-color: #3B4455;\n",
              "      fill: #D2E3FC;\n",
              "    }\n",
              "\n",
              "    [theme=dark] .colab-df-convert:hover {\n",
              "      background-color: #434B5C;\n",
              "      box-shadow: 0px 1px 3px 1px rgba(0, 0, 0, 0.15);\n",
              "      filter: drop-shadow(0px 1px 2px rgba(0, 0, 0, 0.3));\n",
              "      fill: #FFFFFF;\n",
              "    }\n",
              "  </style>\n",
              "\n",
              "    <script>\n",
              "      const buttonEl =\n",
              "        document.querySelector('#df-04a546e4-b899-4d5a-acfa-bb699a644003 button.colab-df-convert');\n",
              "      buttonEl.style.display =\n",
              "        google.colab.kernel.accessAllowed ? 'block' : 'none';\n",
              "\n",
              "      async function convertToInteractive(key) {\n",
              "        const element = document.querySelector('#df-04a546e4-b899-4d5a-acfa-bb699a644003');\n",
              "        const dataTable =\n",
              "          await google.colab.kernel.invokeFunction('convertToInteractive',\n",
              "                                                    [key], {});\n",
              "        if (!dataTable) return;\n",
              "\n",
              "        const docLinkHtml = 'Like what you see? Visit the ' +\n",
              "          '<a target=\"_blank\" href=https://colab.research.google.com/notebooks/data_table.ipynb>data table notebook</a>'\n",
              "          + ' to learn more about interactive tables.';\n",
              "        element.innerHTML = '';\n",
              "        dataTable['output_type'] = 'display_data';\n",
              "        await google.colab.output.renderOutput(dataTable, element);\n",
              "        const docLink = document.createElement('div');\n",
              "        docLink.innerHTML = docLinkHtml;\n",
              "        element.appendChild(docLink);\n",
              "      }\n",
              "    </script>\n",
              "  </div>\n",
              "\n",
              "\n",
              "<div id=\"df-3dc26993-1a4c-4439-9a6a-d02ad1609ec0\">\n",
              "  <button class=\"colab-df-quickchart\" onclick=\"quickchart('df-3dc26993-1a4c-4439-9a6a-d02ad1609ec0')\"\n",
              "            title=\"Suggest charts\"\n",
              "            style=\"display:none;\">\n",
              "\n",
              "<svg xmlns=\"http://www.w3.org/2000/svg\" height=\"24px\"viewBox=\"0 0 24 24\"\n",
              "     width=\"24px\">\n",
              "    <g>\n",
              "        <path d=\"M19 3H5c-1.1 0-2 .9-2 2v14c0 1.1.9 2 2 2h14c1.1 0 2-.9 2-2V5c0-1.1-.9-2-2-2zM9 17H7v-7h2v7zm4 0h-2V7h2v10zm4 0h-2v-4h2v4z\"/>\n",
              "    </g>\n",
              "</svg>\n",
              "  </button>\n",
              "\n",
              "<style>\n",
              "  .colab-df-quickchart {\n",
              "      --bg-color: #E8F0FE;\n",
              "      --fill-color: #1967D2;\n",
              "      --hover-bg-color: #E2EBFA;\n",
              "      --hover-fill-color: #174EA6;\n",
              "      --disabled-fill-color: #AAA;\n",
              "      --disabled-bg-color: #DDD;\n",
              "  }\n",
              "\n",
              "  [theme=dark] .colab-df-quickchart {\n",
              "      --bg-color: #3B4455;\n",
              "      --fill-color: #D2E3FC;\n",
              "      --hover-bg-color: #434B5C;\n",
              "      --hover-fill-color: #FFFFFF;\n",
              "      --disabled-bg-color: #3B4455;\n",
              "      --disabled-fill-color: #666;\n",
              "  }\n",
              "\n",
              "  .colab-df-quickchart {\n",
              "    background-color: var(--bg-color);\n",
              "    border: none;\n",
              "    border-radius: 50%;\n",
              "    cursor: pointer;\n",
              "    display: none;\n",
              "    fill: var(--fill-color);\n",
              "    height: 32px;\n",
              "    padding: 0;\n",
              "    width: 32px;\n",
              "  }\n",
              "\n",
              "  .colab-df-quickchart:hover {\n",
              "    background-color: var(--hover-bg-color);\n",
              "    box-shadow: 0 1px 2px rgba(60, 64, 67, 0.3), 0 1px 3px 1px rgba(60, 64, 67, 0.15);\n",
              "    fill: var(--button-hover-fill-color);\n",
              "  }\n",
              "\n",
              "  .colab-df-quickchart-complete:disabled,\n",
              "  .colab-df-quickchart-complete:disabled:hover {\n",
              "    background-color: var(--disabled-bg-color);\n",
              "    fill: var(--disabled-fill-color);\n",
              "    box-shadow: none;\n",
              "  }\n",
              "\n",
              "  .colab-df-spinner {\n",
              "    border: 2px solid var(--fill-color);\n",
              "    border-color: transparent;\n",
              "    border-bottom-color: var(--fill-color);\n",
              "    animation:\n",
              "      spin 1s steps(1) infinite;\n",
              "  }\n",
              "\n",
              "  @keyframes spin {\n",
              "    0% {\n",
              "      border-color: transparent;\n",
              "      border-bottom-color: var(--fill-color);\n",
              "      border-left-color: var(--fill-color);\n",
              "    }\n",
              "    20% {\n",
              "      border-color: transparent;\n",
              "      border-left-color: var(--fill-color);\n",
              "      border-top-color: var(--fill-color);\n",
              "    }\n",
              "    30% {\n",
              "      border-color: transparent;\n",
              "      border-left-color: var(--fill-color);\n",
              "      border-top-color: var(--fill-color);\n",
              "      border-right-color: var(--fill-color);\n",
              "    }\n",
              "    40% {\n",
              "      border-color: transparent;\n",
              "      border-right-color: var(--fill-color);\n",
              "      border-top-color: var(--fill-color);\n",
              "    }\n",
              "    60% {\n",
              "      border-color: transparent;\n",
              "      border-right-color: var(--fill-color);\n",
              "    }\n",
              "    80% {\n",
              "      border-color: transparent;\n",
              "      border-right-color: var(--fill-color);\n",
              "      border-bottom-color: var(--fill-color);\n",
              "    }\n",
              "    90% {\n",
              "      border-color: transparent;\n",
              "      border-bottom-color: var(--fill-color);\n",
              "    }\n",
              "  }\n",
              "</style>\n",
              "\n",
              "  <script>\n",
              "    async function quickchart(key) {\n",
              "      const quickchartButtonEl =\n",
              "        document.querySelector('#' + key + ' button');\n",
              "      quickchartButtonEl.disabled = true;  // To prevent multiple clicks.\n",
              "      quickchartButtonEl.classList.add('colab-df-spinner');\n",
              "      try {\n",
              "        const charts = await google.colab.kernel.invokeFunction(\n",
              "            'suggestCharts', [key], {});\n",
              "      } catch (error) {\n",
              "        console.error('Error during call to suggestCharts:', error);\n",
              "      }\n",
              "      quickchartButtonEl.classList.remove('colab-df-spinner');\n",
              "      quickchartButtonEl.classList.add('colab-df-quickchart-complete');\n",
              "    }\n",
              "    (() => {\n",
              "      let quickchartButtonEl =\n",
              "        document.querySelector('#df-3dc26993-1a4c-4439-9a6a-d02ad1609ec0 button');\n",
              "      quickchartButtonEl.style.display =\n",
              "        google.colab.kernel.accessAllowed ? 'block' : 'none';\n",
              "    })();\n",
              "  </script>\n",
              "</div>\n",
              "\n",
              "    </div>\n",
              "  </div>\n"
            ],
            "application/vnd.google.colaboratory.intrinsic+json": {
              "type": "dataframe",
              "variable_name": "submission",
              "summary": "{\n  \"name\": \"submission\",\n  \"rows\": 10086,\n  \"fields\": [\n    {\n      \"column\": \"uniqueid\",\n      \"properties\": {\n        \"dtype\": \"string\",\n        \"num_unique_values\": 10086,\n        \"samples\": [\n          \"uniqueid_10792 x Rwanda\",\n          \"uniqueid_8045 x Tanzania\",\n          \"uniqueid_9922 x Rwanda\"\n        ],\n        \"semantic_type\": \"\",\n        \"description\": \"\"\n      }\n    },\n    {\n      \"column\": \"bank_account\",\n      \"properties\": {\n        \"dtype\": \"number\",\n        \"std\": 0,\n        \"min\": 0,\n        \"max\": 1,\n        \"num_unique_values\": 2,\n        \"samples\": [\n          0,\n          1\n        ],\n        \"semantic_type\": \"\",\n        \"description\": \"\"\n      }\n    }\n  ]\n}"
            }
          },
          "metadata": {},
          "execution_count": 25
        }
      ]
    },
    {
      "cell_type": "code",
      "source": [
        "# Create submission csv file csv file\n",
        "submission.to_csv('second_submission.csv', index = False)\n"
      ],
      "metadata": {
        "id": "w_tqwi76vWon"
      },
      "id": "w_tqwi76vWon",
      "execution_count": null,
      "outputs": []
    },
    {
      "cell_type": "code",
      "source": [],
      "metadata": {
        "id": "h-dUpx8FwZMb"
      },
      "id": "h-dUpx8FwZMb",
      "execution_count": null,
      "outputs": []
    }
  ],
  "metadata": {
    "kernelspec": {
      "display_name": "Python 3",
      "language": "python",
      "name": "python3"
    },
    "language_info": {
      "codemirror_mode": {
        "name": "ipython",
        "version": 3
      },
      "file_extension": ".py",
      "mimetype": "text/x-python",
      "name": "python",
      "nbconvert_exporter": "python",
      "pygments_lexer": "ipython3",
      "version": "3.12.5"
    },
    "colab": {
      "provenance": [],
      "include_colab_link": true
    }
  },
  "nbformat": 4,
  "nbformat_minor": 5
}